{
 "cells": [
  {
   "cell_type": "code",
   "execution_count": 1,
   "metadata": {},
   "outputs": [],
   "source": [
    "from random import randint\n",
    "import datetime\n",
    "import numpy as np"
   ]
  },
  {
   "cell_type": "code",
   "execution_count": 3,
   "metadata": {},
   "outputs": [],
   "source": [
    "# UnixTime\n",
    "t2010 = 1262282400"
   ]
  },
  {
   "cell_type": "code",
   "execution_count": 8,
   "metadata": {},
   "outputs": [
    {
     "name": "stdout",
     "output_type": "stream",
     "text": [
      "[3296, 1711, -15650, 462, -2729, 911.2036901678188, 911.3923803583463, -15741, 496, -3221, 911.0533816791407, 911.1028322702791, -15779, 634, -1918, 911.4480611039654, 911.8631264749679] [-15730, 540, -3391, 911]\n"
     ]
    }
   ],
   "source": [
    "dataset_in = []\n",
    "dataset_out = []\n",
    "for _ in range(100):\n",
    "    v_p = randint(400,10000)\n",
    "    v_s = randint(400, v_p)\n",
    "    x0 = randint(-18000,18000)\n",
    "    y0 = randint(-9000,9000)\n",
    "    z0 = randint(-5000,0)\n",
    "    t0 = randint(1, 648023579)\n",
    "    t0 = t0 - (t0//1000)*1000\n",
    "    dataset_out.append([x0,y0,z0,t0])\n",
    "    ins = [v_p, v_s]\n",
    "    for i in range(3):\n",
    "        x = x0 + randint(-100,100)\n",
    "        y = y0 + randint(-100,100)\n",
    "        z = z0 + randint(-200,2000)\n",
    "        t_p = t0 + (1 / v_p) * (((x - x0)**2 + (y - y0)**2 + (z - z0)**2)**0.5) - (t0//1000)*1000\n",
    "        t_s = t0 + (1 / v_s) * (((x - x0)**2 + (y - y0)**2 + (z - z0)**2)**0.5) - (t0//1000)*1000\n",
    "        ins.append(x)\n",
    "        ins.append(y)\n",
    "        ins.append(z)\n",
    "        ins.append(t_p)\n",
    "        ins.append(t_s)\n",
    "\n",
    "    dataset_in.append(ins)\n",
    "print(dataset_in[0], dataset_out[0])\n",
    "np.save('in.npy',np.array(dataset_in))\n",
    "np.save('out.npy',np.array(dataset_out))"
   ]
  },
  {
   "cell_type": "markdown",
   "metadata": {},
   "source": [
    "WORKING!\n",
    "  |||\n",
    "  \\ /"
   ]
  },
  {
   "cell_type": "code",
   "execution_count": 2,
   "metadata": {},
   "outputs": [],
   "source": [
    "import numpy as np\n",
    "from mpl_toolkits.mplot3d import Axes3D\n",
    "import matplotlib.pyplot as plt\n",
    "import seaborn as sns\n",
    "sns.set_style(\"whitegrid\")\n",
    "import hypo\n",
    "from ttcrpy.rgrid import Grid3d"
   ]
  },
  {
   "cell_type": "code",
   "execution_count": 25,
   "metadata": {},
   "outputs": [
    {
     "name": "stdout",
     "output_type": "stream",
     "text": [
      "[[0.     0.0446 0.    ]\n",
      " [1.     0.04   0.    ]\n",
      " [2.     0.446  0.    ]\n",
      " [0.     0.0446 1.    ]\n",
      " [1.     0.04   1.    ]\n",
      " [2.     0.446  1.    ]]\n"
     ]
    }
   ],
   "source": [
    "n_stations = 3\n",
    "P1 = np.array([0,-0.100,0])\n",
    "P2 = np.array([0,0,0])\n",
    "P3 = np.array([0,0.100,0])\n",
    "times = [0.0446, 0.04, 0.446]\n",
    "rcv = np.array([P1, P2, P3])\n",
    "\n",
    "data = np.array([[x,times[x],0] for x in range(n_stations)]+[[x,times[x],1] for x in range(n_stations)])\n",
    "print(data)"
   ]
  },
  {
   "cell_type": "code",
   "execution_count": 31,
   "metadata": {},
   "outputs": [],
   "source": [
    "nev = 10\n",
    "\n",
    "hinit = np.vstack((np.arange(nev),\n",
    "                   np.linspace(0., 50., nev),\n",
    "                   0.150 + 0.0001*np.random.randn(nev),\n",
    "                   0.150 + 0.0001*np.random.randn(nev),\n",
    "                   0.050 + 0.0001*np.random.randn(nev))).T\n",
    "Vinit = 3.6325"
   ]
  },
  {
   "cell_type": "code",
   "execution_count": 32,
   "metadata": {},
   "outputs": [
    {
     "name": "stdout",
     "output_type": "stream",
     "text": [
      "\n",
      " *** Hypocenter inversion ***\n",
      "\n",
      "Locating hypocenters no 0\n"
     ]
    },
    {
     "ename": "LinAlgError",
     "evalue": "Singular matrix",
     "output_type": "error",
     "traceback": [
      "\u001b[1;31m---------------------------------------------------------------------------\u001b[0m",
      "\u001b[1;31mLinAlgError\u001b[0m                               Traceback (most recent call last)",
      "Cell \u001b[1;32mIn[32], line 1\u001b[0m\n\u001b[1;32m----> 1\u001b[0m \u001b[39mprint\u001b[39m(hypo\u001b[39m.\u001b[39;49mhypoloc(data, rcv, V\u001b[39m=\u001b[39;49mVinit, hinit\u001b[39m=\u001b[39;49mhinit, maxit\u001b[39m=\u001b[39;49m\u001b[39m1\u001b[39;49m, convh\u001b[39m=\u001b[39;49m\u001b[39m0.001\u001b[39;49m, verbose\u001b[39m=\u001b[39;49m\u001b[39mTrue\u001b[39;49;00m))\n",
      "File \u001b[1;32md:\\Documents\\GitHub\\seismo-helper\\hypo.py:112\u001b[0m, in \u001b[0;36mhypoloc\u001b[1;34m(data, rcv, V, hinit, maxit, convh, tol, verbose)\u001b[0m\n\u001b[0;32m    109\u001b[0m H[:, \u001b[39m3\u001b[39m] \u001b[39m=\u001b[39m \u001b[39m-\u001b[39m\u001b[39m1.0\u001b[39m \u001b[39m/\u001b[39m V \u001b[39m*\u001b[39m dz \u001b[39m/\u001b[39m ds\n\u001b[0;32m    111\u001b[0m \u001b[39m# dh,residuals,rank, s = np.linalg.H.T.dot((H, r)\u001b[39;00m\n\u001b[1;32m--> 112\u001b[0m dh \u001b[39m=\u001b[39m np\u001b[39m.\u001b[39;49mlinalg\u001b[39m.\u001b[39;49msolve(H\u001b[39m.\u001b[39;49mT\u001b[39m.\u001b[39;49mdot(H), H\u001b[39m.\u001b[39;49mT\u001b[39m.\u001b[39;49mdot(r))\n\u001b[0;32m    113\u001b[0m \u001b[39mif\u001b[39;00m \u001b[39mnot\u001b[39;00m np\u001b[39m.\u001b[39mall(np\u001b[39m.\u001b[39misfinite(dh)):\n\u001b[0;32m    114\u001b[0m     \u001b[39mtry\u001b[39;00m:\n",
      "File \u001b[1;32m<__array_function__ internals>:180\u001b[0m, in \u001b[0;36msolve\u001b[1;34m(*args, **kwargs)\u001b[0m\n",
      "File \u001b[1;32mc:\\Users\\ETP\\AppData\\Local\\Programs\\Python\\Python311\\Lib\\site-packages\\numpy\\linalg\\linalg.py:400\u001b[0m, in \u001b[0;36msolve\u001b[1;34m(a, b)\u001b[0m\n\u001b[0;32m    398\u001b[0m signature \u001b[39m=\u001b[39m \u001b[39m'\u001b[39m\u001b[39mDD->D\u001b[39m\u001b[39m'\u001b[39m \u001b[39mif\u001b[39;00m isComplexType(t) \u001b[39melse\u001b[39;00m \u001b[39m'\u001b[39m\u001b[39mdd->d\u001b[39m\u001b[39m'\u001b[39m\n\u001b[0;32m    399\u001b[0m extobj \u001b[39m=\u001b[39m get_linalg_error_extobj(_raise_linalgerror_singular)\n\u001b[1;32m--> 400\u001b[0m r \u001b[39m=\u001b[39m gufunc(a, b, signature\u001b[39m=\u001b[39;49msignature, extobj\u001b[39m=\u001b[39;49mextobj)\n\u001b[0;32m    402\u001b[0m \u001b[39mreturn\u001b[39;00m wrap(r\u001b[39m.\u001b[39mastype(result_t, copy\u001b[39m=\u001b[39m\u001b[39mFalse\u001b[39;00m))\n",
      "File \u001b[1;32mc:\\Users\\ETP\\AppData\\Local\\Programs\\Python\\Python311\\Lib\\site-packages\\numpy\\linalg\\linalg.py:89\u001b[0m, in \u001b[0;36m_raise_linalgerror_singular\u001b[1;34m(err, flag)\u001b[0m\n\u001b[0;32m     88\u001b[0m \u001b[39mdef\u001b[39;00m \u001b[39m_raise_linalgerror_singular\u001b[39m(err, flag):\n\u001b[1;32m---> 89\u001b[0m     \u001b[39mraise\u001b[39;00m LinAlgError(\u001b[39m\"\u001b[39m\u001b[39mSingular matrix\u001b[39m\u001b[39m\"\u001b[39m)\n",
      "\u001b[1;31mLinAlgError\u001b[0m: Singular matrix"
     ]
    }
   ],
   "source": [
    "print(hypo.hypoloc(data, rcv, V=Vinit, hinit=hinit, maxit=1, convh=0.001, verbose=True))"
   ]
  }
 ],
 "metadata": {
  "kernelspec": {
   "display_name": "Python 3",
   "language": "python",
   "name": "python3"
  },
  "language_info": {
   "codemirror_mode": {
    "name": "ipython",
    "version": 3
   },
   "file_extension": ".py",
   "mimetype": "text/x-python",
   "name": "python",
   "nbconvert_exporter": "python",
   "pygments_lexer": "ipython3",
   "version": "3.11.4"
  },
  "orig_nbformat": 4
 },
 "nbformat": 4,
 "nbformat_minor": 2
}
