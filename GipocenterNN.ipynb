{
 "cells": [
  {
   "cell_type": "code",
   "execution_count": 2,
   "metadata": {},
   "outputs": [],
   "source": [
    "from random import randint\n",
    "import datetime\n",
    "import numpy as np"
   ]
  },
  {
   "cell_type": "code",
   "execution_count": 3,
   "metadata": {},
   "outputs": [],
   "source": [
    "# UnixTime\n",
    "t2010 = 1262282400"
   ]
  },
  {
   "cell_type": "code",
   "execution_count": 8,
   "metadata": {},
   "outputs": [
    {
     "name": "stdout",
     "output_type": "stream",
     "text": [
      "[3296, 1711, -15650, 462, -2729, 911.2036901678188, 911.3923803583463, -15741, 496, -3221, 911.0533816791407, 911.1028322702791, -15779, 634, -1918, 911.4480611039654, 911.8631264749679] [-15730, 540, -3391, 911]\n"
     ]
    }
   ],
   "source": [
    "dataset_in = []\n",
    "dataset_out = []\n",
    "for _ in range(100):\n",
    "    v_p = randint(400,10000)\n",
    "    v_s = randint(400, v_p)\n",
    "    x0 = randint(-18000,18000)\n",
    "    y0 = randint(-9000,9000)\n",
    "    z0 = randint(-5000,0)\n",
    "    t0 = randint(1, 648023579)\n",
    "    t0 = t0 - (t0//1000)*1000\n",
    "    dataset_out.append([x0,y0,z0,t0])\n",
    "    ins = [v_p, v_s]\n",
    "    for i in range(3):\n",
    "        x = x0 + randint(-100,100)\n",
    "        y = y0 + randint(-100,100)\n",
    "        z = z0 + randint(-200,2000)\n",
    "        t_p = t0 + (1 / v_p) * (((x - x0)**2 + (y - y0)**2 + (z - z0)**2)**0.5) - (t0//1000)*1000\n",
    "        t_s = t0 + (1 / v_s) * (((x - x0)**2 + (y - y0)**2 + (z - z0)**2)**0.5) - (t0//1000)*1000\n",
    "        ins.append(x)\n",
    "        ins.append(y)\n",
    "        ins.append(z)\n",
    "        ins.append(t_p)\n",
    "        ins.append(t_s)\n",
    "\n",
    "    dataset_in.append(ins)\n",
    "print(dataset_in[0], dataset_out[0])\n",
    "np.save('in.npy',np.array(dataset_in))\n",
    "np.save('out.npy',np.array(dataset_out))"
   ]
  },
  {
   "cell_type": "code",
   "execution_count": 10,
   "metadata": {},
   "outputs": [],
   "source": [
    "dataset_in = dataset_in[0]"
   ]
  },
  {
   "cell_type": "code",
   "execution_count": 5,
   "metadata": {},
   "outputs": [],
   "source": [
    "def find_hypocenter(station_xyz:list, t:list, t_delta_p_s:list, v_p, v_s):\n",
    "    r_s = [((v_p * v_s * delta_p_s)/(v_p - v_s)) for delta_p_s in t_delta_p_s] # метод сфер\n",
    "    l = []  # Расстояния между станциями\n",
    "    for i in range(3):\n",
    "        if i == 2:\n",
    "            l.append(((station_xyz[i][0]-station_xyz[0][0])**2 + (station_xyz[i][1]-station_xyz[0][1])**2 + (station_xyz[i][2]-station_xyz[0][2])**2)**0.5)\n",
    "        else:\n",
    "            l.append(((station_xyz[i][0]-station_xyz[i+1][0])**2 + (station_xyz[i][1]-station_xyz[i+1][1])**2 + (station_xyz[i][2]-station_xyz[i+1][2])**2)**0.5)\n",
    "    \n",
    "    t_r = []  # разность времен прихода продольной сейсмической волны к i-ому и i + 1 сейсмодатчику\n",
    "    for i in range(3):\n",
    "        if i == 2:\n",
    "            t_r.append(t[i] - t[0])\n",
    "        else:\n",
    "            t_r.append(t[i] - t[i+1])\n",
    "\n",
    "    # m = []\n",
    "    # for i in range(3):\n",
    "    #     m.append(((v_p - v_s) * (l[i] - (t_r[i]**2) * v_p**2) - 2 * (t_r[i] * t_delta_p_s[i] * (v_p**2) * v_s))/(2 * (l[i] * v_p * v_s * t_delta_p_s[i])))\n",
    "    \n",
    "    # r_s = []  # метод сферы и гиперболоида\n",
    "    # for i in range(3):\n",
    "    #     r_s.append((l[i] - (t_r[i]**2)*(v_p**2))/(2 * (l[i] * v_p * v_s * t_delta_p_s[i])))\n",
    "\n",
    "    g = []\n",
    "    for i in range(3):\n",
    "        if i == 2:\n",
    "            g.append((l[i]**2 - r_s[0]**2 + r_s[i]**2)/(2 * l[i]))\n",
    "        else:\n",
    "            g.append((l[i]**2 - r_s[i+1]**2 + r_s[i]**2)/(2 * l[i]))\n",
    "\n",
    "    r_o = []\n",
    "    for i in range(3):\n",
    "        r_o.append((r_s[i]**2 - g[i]**2)**0.5)\n",
    "\n",
    "    x_o = []\n",
    "    y_o = []\n",
    "    for i in range(3):\n",
    "        if i == 2:\n",
    "            x_o.append(station_xyz[0][0] * (g[i] / l[i]) + station_xyz[i][0] * (1 - (g[i] / l[i])))\n",
    "            y_o.append(station_xyz[0][1] * (g[i] / l[i]) + station_xyz[i][1] * (1 - (g[i] / l[i])))\n",
    "        else:\n",
    "            x_o.append(station_xyz[i+1][0] * (g[i] / l[i]) + station_xyz[i][0] * (1 - (g[i] / l[i])))\n",
    "            y_o.append(station_xyz[i+1][1] * (g[i] / l[i]) + station_xyz[i][1] * (1 - (g[i] / l[i])))\n",
    "\n",
    "    print(x_o)\n",
    "    print(y_o)\n",
    "    print(r_s)\n",
    "    print(r_o)\n",
    "\n",
    "    x = x_o[0] + ( r_o[1]**2 * y_o[2] - y_o[2] * x_o[1]**2  - y_o[2] * y_o[1]**2 + y_o[1] * x_o[2]**2 + y_o[2]**2 * y_o[1]\n",
    "                  + r_o[0]**2 * y_o[1] - r_o[2]**2 * y_o[1] - r_o[0]**2 * y_o[2])/(\n",
    "        2 * (y_o[1] * x_o[2] - x_o[1] * y_o[2]))\n",
    "    \n",
    "    y = y_o[0] + ( r_o[1]**2 * x_o[2] - x_o[2] * y_o[1]**2  - x_o[2] * x_o[1]**2 + x_o[1] * y_o[2]**2 + x_o[2]**2 * x_o[1]\n",
    "                  + r_o[0]**2 * x_o[1] - r_o[2]**2 * x_o[1] - r_o[0]**2 * x_o[2])/(\n",
    "        2 * (x_o[1] * y_o[2] - y_o[1] * x_o[2]))\n",
    "\n",
    "    z = (r_s[0]**2 - x**2 - y**2)**0.5\n",
    "    return [x, y, z]\n",
    "    # m = []\n",
    "    # for i in range(3):\n",
    "    #     m.append(((v_p - v_s) * (l[i] - (t_r[i]**2) * v_p**2) - 2 * (t_r[i] * t_delta_p_s[i] * (v_p**2) * v_s))/(2 * (l[i] * v_p * v_s * t_delta_p_s[i])))\n",
    "    \n",
    "    # r_g = []  # метод сферы и гиперболоида\n",
    "    # for i in range(3):\n",
    "    #     r_g.append((l[i] - (t_r[i]**2)*(v_p**2))/(2 * (l[i] * v_p * v_s * t_delta_p_s[i])))\n",
    "    "
   ]
  },
  {
   "cell_type": "code",
   "execution_count": 6,
   "metadata": {},
   "outputs": [],
   "source": [
    "dataset_in = [5000, 3000, 200, 0, -421, 0.0446, 0.074, 200, 100, -100, 0.04, 0.0666, 200, 200, -117, 0.0446, 0.074]"
   ]
  },
  {
   "cell_type": "code",
   "execution_count": 11,
   "metadata": {},
   "outputs": [
    {
     "name": "stdout",
     "output_type": "stream",
     "text": [
      "[-15771.442364046208, -15736.22636191531, -15555.96461376292]\n",
      "[507.3740700831984, 478.66415642928666, 336.619485017231]\n",
      "[671.3627931302378, 175.9460144475022, 1476.8093986700976]\n",
      "[53.020698941027746, 61.97358893936141, 276.88787776283505]\n",
      "[-23313.785114056034, 11455.43043642218, (1.5900480508405766e-12+25967.455301359216j)]\n"
     ]
    }
   ],
   "source": [
    "print(find_hypocenter([[dataset_in[2], dataset_in[3], dataset_in[4]], [dataset_in[7], dataset_in[8], dataset_in[9]], [dataset_in[12], dataset_in[13], dataset_in[14]]],\n",
    "                      [dataset_in[5], dataset_in[10], dataset_in[15]],\n",
    "                      [dataset_in[6] - dataset_in[5], dataset_in[11] - dataset_in[10], dataset_in[16] - dataset_in[15]],\n",
    "                      dataset_in[0],\n",
    "                      dataset_in[1]\n",
    "                      ))\n",
    "\n",
    "# [2999.9999999999955, 3000.000000000119, 2000.0]\n",
    "# [3166.0000000000095, 1000.0, 3166.0000000000673]\n",
    "# [-6.936985466943049e-05, -0.00033265462565242596, -0.0007667465074641657]\n",
    "# [(3247.0195882902876+1.13776663897302e-13j), (5066.319235129315-5.248210342204875e-14j), (3.684677453796645e-13-6017.534943727548j)]"
   ]
  },
  {
   "cell_type": "code",
   "execution_count": 12,
   "metadata": {},
   "outputs": [],
   "source": [
    "import matplotlib.pyplot as plt"
   ]
  },
  {
   "cell_type": "code",
   "execution_count": null,
   "metadata": {},
   "outputs": [],
   "source": [
    "circle1 = plt.Circle((427.9708188615692, 39.58303125901048), 366.3018249776558, color='g', fill=False)\n",
    "circle2 = plt.Circle((174, 100), 298, color='g', fill=False)\n",
    "circle3 = plt.Circle((200, -49), 237, color='g', fill=False)\n",
    "\n",
    "fig, ax = plt.subplots() # note we must use plt.subplots, not plt.subplot\n",
    "ax.plot([200,400,200,711], [532,100,100,-28], 'bo')\n",
    "ax.add_patch(circle1)\n",
    "ax.add_patch(circle2)\n",
    "ax.add_patch(circle3)"
   ]
  },
  {
   "cell_type": "code",
   "execution_count": 23,
   "metadata": {},
   "outputs": [],
   "source": [
    "def find_hypocenter_math(x1, x2, x3, y1, y2, y3, z1, z2, z3, t:list, t_delta_p_s:list, v_p, v_s):\n",
    "    r_s = [((v_p * v_s * delta_p_s)/(v_p - v_s)) for delta_p_s in t_delta_p_s] # метод сфер\n",
    "\n",
    "\n",
    "    r_s = [20000**0.5, 100, 20000**0.5]\n",
    "    print(r_s)\n",
    "    x = (x2**2 + r_s[0]**2 - r_s[1]**2)/(2 * x2)\n",
    "    y = (x3**2 + y3**2 + r_s[0]**2 - r_s[2]**2 - (2 * x3 * x))/(2 * y3)\n",
    "    z = (r_s[0]**2 - x**2 - y**2)**0.5\n",
    "    return [x, y, z]"
   ]
  },
  {
   "cell_type": "code",
   "execution_count": 25,
   "metadata": {},
   "outputs": [
    {
     "name": "stdout",
     "output_type": "stream",
     "text": [
      "[141.4213562373095, 100, 141.4213562373095]\n",
      "[5000.5, 0.0, (3.06069839026759e-13+4998.499799939978j)]\n"
     ]
    }
   ],
   "source": [
    "print(find_hypocenter_math(1,1,1, -100, 0, 100, 1, 1, 1,\n",
    "                      [0.0446, 0.04, 0.0446],\n",
    "                      [0.0294, 0.0266666666, 0.0294],\n",
    "                      5000,\n",
    "                      3000\n",
    "                      ))\n"
   ]
  },
  {
   "cell_type": "code",
   "execution_count": 13,
   "metadata": {},
   "outputs": [],
   "source": [
    "import numpy                                             \n",
    "from numpy import sqrt, dot, cross                       \n",
    "from numpy.linalg import norm                            \n",
    "\n",
    "# Find the intersection of three spheres                 \n",
    "# P1,P2,P3 are the centers, r1,r2,r3 are the radii       \n",
    "# Implementaton based on Wikipedia Trilateration article.                              \n",
    "def trilaterate(P1,P2,P3,r1,r2,r3):                      \n",
    "    temp1 = P2-P1                                        \n",
    "    e_x = temp1/norm(temp1)                              \n",
    "    temp2 = P3-P1                                        \n",
    "    i = dot(e_x,temp2)                                   \n",
    "    temp3 = temp2 - i*e_x                                \n",
    "    e_y = temp3/norm(temp3)                              \n",
    "    e_z = cross(e_x,e_y)                                 \n",
    "    d = norm(P2-P1)                                      \n",
    "    j = dot(e_y,temp2)                                   \n",
    "    x = (r1*r1 - r2*r2 + d*d) / (2*d)                    \n",
    "    y = (r1*r1 - r3*r3 -2*i*x + i*i + j*j) / (2*j)       \n",
    "    temp4 = r1*r1 - x*x - y*y                            \n",
    "    if temp4<0:                                          \n",
    "        raise Exception(\"The three spheres do not intersect!\");\n",
    "    z = sqrt(temp4)                                      \n",
    "    p_12_a = P1 + x*e_x + y*e_y + z*e_z                  \n",
    "    p_12_b = P1 + x*e_x + y*e_y - z*e_z                  \n",
    "    return p_12_a,p_12_b"
   ]
  },
  {
   "cell_type": "code",
   "execution_count": 14,
   "metadata": {},
   "outputs": [],
   "source": [
    "t_delta_p_s = [0.0294, 0.0266666666, 0.0294]\n",
    "v_p = 5000\n",
    "v_s = 3000\n",
    "r_s = [((v_p * v_s * delta_p_s)/(v_p - v_s)) for delta_p_s in t_delta_p_s] # метод сфер"
   ]
  },
  {
   "cell_type": "code",
   "execution_count": 17,
   "metadata": {},
   "outputs": [
    {
     "name": "stdout",
     "output_type": "stream",
     "text": [
      "[142, 100, 142]\n"
     ]
    },
    {
     "name": "stderr",
     "output_type": "stream",
     "text": [
      "C:\\Users\\ETP\\AppData\\Local\\Temp\\ipykernel_14600\\3812375326.py:14: RuntimeWarning: invalid value encountered in divide\n",
      "  e_y = temp3/norm(temp3)\n"
     ]
    },
    {
     "data": {
      "text/plain": [
       "(array([nan, nan, nan]), array([nan, nan, nan]))"
      ]
     },
     "execution_count": 17,
     "metadata": {},
     "output_type": "execute_result"
    }
   ],
   "source": [
    "\n",
    "r_s = [142, 100, 142]\n",
    "print(r_s)\n",
    "\n",
    "trilaterate(P1, P2, P3, 20000**0.5, 100, 20000**0.5)"
   ]
  },
  {
   "cell_type": "code",
   "execution_count": 18,
   "metadata": {},
   "outputs": [
    {
     "name": "stdout",
     "output_type": "stream",
     "text": [
      "No intersection exists of the circle with the 3rd sphere.\n"
     ]
    }
   ],
   "source": [
    "import numpy as np\n",
    "\n",
    "\n",
    "def get_spanning_vectors_of_3d_plane(n):\n",
    "    \"\"\"\n",
    "    Gets two orthogonal spanning vectors of a plane with normal n.\n",
    "    :param n: (array_like) normal of plane of dimension 3, does not have to be normalized, but is normalized internally.\n",
    "    :return: u,v (ndarray) of dimension 3 which are the spanning vectors.\n",
    "\n",
    "    Note this function uses random vectors to initialize guesses which may be undesirable,\n",
    "    this can easily be changed to use deterministic guesses but requires more checks.\n",
    "    \"\"\"\n",
    "\n",
    "    n = np.asarray(n)\n",
    "    n = n / np.linalg.norm(n)\n",
    "\n",
    "    # Generate u\n",
    "    while True:\n",
    "        u = np.random.randn(3)\n",
    "        # Must be careful not to generate a co-linear vector\n",
    "        if np.abs(np.dot(u, n)) < 1e-6:\n",
    "            continue  # retry\n",
    "        u = u - np.dot(u, n) * n\n",
    "        u = u / np.linalg.norm(u)\n",
    "        break\n",
    "\n",
    "    # Generate v\n",
    "    while True:\n",
    "        v = np.random.randn(3)\n",
    "        # Must be careful not to generate a co-linear vector\n",
    "        if np.abs(np.dot(v, n)) < 1e-6 or np.abs(np.dot(v, u)) < 1e-6:\n",
    "            continue  # retry\n",
    "        v = v - np.dot(v, u) * u\n",
    "        v = v - np.dot(v, n) * n\n",
    "        v = v / np.linalg.norm(v)\n",
    "        break\n",
    "\n",
    "    return u, v\n",
    "\n",
    "\n",
    "def eval_circle(t, circle):\n",
    "    \"\"\"\n",
    "    Evaluates a circle in 3d.\n",
    "    :param t: (ndarray) a ndarray of one or more points in 3d in to evaluate circle at.\n",
    "    :param circle: (circle) the circle in 3d to evaluate.\n",
    "    :return: (ndarray) a ndarray of the 3d points that each value of t maps to, on on each row.\n",
    "\n",
    "    Note for a description of the circle structure, please see documentation of Sphere.get_circle_of_intersection.\n",
    "    \"\"\"\n",
    "    h, c, u, v = circle\n",
    "    return c + h * np.cos(t.reshape(-1, 1)) * u + h * np.sin(t.reshape(-1, 1)) * v\n",
    "\n",
    "\n",
    "def solve_sin_cos_eq(alpha, beta, gamma):\n",
    "    \"\"\"\n",
    "    Solves the equation\n",
    "    \\alpha cos(t) + \\beta sin(t) = \\gamma\n",
    "    for t.\n",
    "\n",
    "    :param alpha: (real)\n",
    "    :param beta: (real)\n",
    "    :param gamma: (real)\n",
    "    :return: all solutions for t to the equation.\n",
    "\n",
    "    \"\"\"\n",
    "    sq = np.square\n",
    "\n",
    "    # Solve for tt = tan(t/2) in the original equations using\n",
    "    # Weierstrass Substitution:\n",
    "    # cos(t) = (1-tt^2)/(1+tt^2)\n",
    "    # sin(t) = (2tt)/(1+tt^2)\n",
    "\n",
    "    c = gamma - alpha\n",
    "    b = -2 * beta\n",
    "    a = gamma + alpha\n",
    "    discriminant = sq(b) - 4 * a * c\n",
    "    if discriminant < 0:\n",
    "        return np.nan, np.nan\n",
    "    tt_0 = (-b + np.sqrt(discriminant)) / (2 * a)\n",
    "    tt_1 = (-b - np.sqrt(discriminant)) / (2 * a)\n",
    "\n",
    "    t_0 = 2 * np.arctan(tt_0)\n",
    "    t_1 = 2 * np.arctan(tt_1)\n",
    "\n",
    "    t_0 = t_0 if t_0 > 0 else t_0 + 2 * np.pi\n",
    "    t_1 = t_1 if t_1 > 0 else t_1 + 2 * np.pi\n",
    "\n",
    "    return t_0, t_1\n",
    "\n",
    "\n",
    "class Sphere:\n",
    "\n",
    "    def __init__(self, center_sigma=1., radius_sigma=2.):\n",
    "        \"\"\"\n",
    "        Generates a random sphere in 3d.\n",
    "        :param center_sigma: std. deviation in random center.\n",
    "        :param radius_sigma: std. deviation in random radius.\n",
    "        \"\"\"\n",
    "        self.center = center_sigma * np.random.randn(3)\n",
    "        self.radius = radius_sigma * np.abs(np.random.randn())\n",
    "\n",
    "    def check_intersection(self, other_sphere):\n",
    "        \"\"\"\n",
    "        Checks to see if this sphere intersects with given `other_sphere`.\n",
    "        :param other_sphere:\n",
    "        :return:\n",
    "        \"\"\"\n",
    "        r0 = other_sphere.radius\n",
    "        c0 = other_sphere.center\n",
    "        r1 = self.radius\n",
    "        c1 = self.center\n",
    "        if r1 > r0:\n",
    "            r0, r1 = r1, r0\n",
    "            c0, c1 = c1, c0\n",
    "        d = np.linalg.norm(c1 - c0)\n",
    "        if d < r0:\n",
    "            return r1 >= r0 - d\n",
    "        else:\n",
    "            return d < r0 + r1\n",
    "\n",
    "    def get_circle_of_intersection(self, other_sphere):\n",
    "        \"\"\"\n",
    "        Gets the circle in 3d of the intersection of this sphere with `other_sphere`.\n",
    "        Note, an intersection should exist for this function to be sensible.\n",
    "        :param other_sphere:\n",
    "        :return: (circle) the circle of intersection.\n",
    "\n",
    "        Note: a `circle` is defined by a tuple\n",
    "        circle = h, c, u, v\n",
    "        which describes the analytic form\n",
    "        x(t) = c + h*cos(t)*u + h*sin(t)*v\n",
    "        where h is a constant (radius) and c, u, v are all 3d vectors, and x(t) is the 3d\n",
    "        circle as a function of time.\n",
    "        \"\"\"\n",
    "        r0 = other_sphere.radius\n",
    "        c0 = other_sphere.center\n",
    "        r1 = self.radius\n",
    "        c1 = self.center\n",
    "        if r1 > r0:\n",
    "            r0, r1 = r1, r0\n",
    "            c0, c1 = c1, c0\n",
    "        n = c1 - c0\n",
    "        d = np.linalg.norm(n)\n",
    "        u, v = get_spanning_vectors_of_3d_plane(n / d)\n",
    "        x = (r1 * r1 - r0 * r0 + d * d) / (2 * d)\n",
    "        if d < r0:\n",
    "            x = -x\n",
    "            c = c0 + n / d * (d + x)\n",
    "        else:\n",
    "            c = c0 + n / d * (d - x)\n",
    "        h = np.sqrt(r1 * r1 - x * x)\n",
    "        return h, c, u, v\n",
    "\n",
    "    def check_point_is_on_sphere(self, x):\n",
    "        \"\"\"\n",
    "        Checks to see if a point is on a sphere (in 3d.)\n",
    "        :param x:  (array_like) a 3d real point.\n",
    "        :return: true if detected on sphere (within precision) false otherwise.\n",
    "        \"\"\"\n",
    "        dx = x - self.center\n",
    "        return np.abs(np.sum(np.square(dx)) - np.square(self.radius)) < 1e-6\n",
    "\n",
    "    def find_intersection_with_circle(self, circle):\n",
    "        \"\"\"\n",
    "        Finds the two points that define the intersection to this sphere with `circle`, if such an intersection exists.\n",
    "        :param circle: (circle) the circle to intersect with.\n",
    "        :return: (tuple) two 3d points that define the intersection. If no intersection exists returns None.\n",
    "        \"\"\"\n",
    "        h, c, u, v = circle\n",
    "        cd = c - self.center\n",
    "        gamma = np.square(self.radius) - np.dot(cd, cd) - np.square(h)\n",
    "        alpha = 2 * np.dot(cd, u) * h\n",
    "        beta = 2 * np.dot(cd, v) * h\n",
    "\n",
    "        t0, t1 = solve_sin_cos_eq(alpha, beta, gamma)\n",
    "\n",
    "        if np.isnan(t0) or np.isnan(t1):\n",
    "            return None\n",
    "\n",
    "        return eval_circle(t0, circle)[0], eval_circle(t1, circle)[0]\n",
    "\n",
    "\n",
    "np.random.seed(1012)\n",
    "\n",
    "spheres = [Sphere(P1, r_s[0]),Sphere(P1, r_s[1]),Sphere(P1, r_s[2])]\n",
    "\n",
    "\n",
    "if not spheres[0].check_intersection(spheres[1]):\n",
    "    raise RuntimeError(\n",
    "        \"In the generated example the first two spheres do not intersect; no 3-sphere intersection is possible.\")\n",
    "\n",
    "circle = spheres[0].get_circle_of_intersection(spheres[1])\n",
    "\n",
    "ret_value = spheres[2].find_intersection_with_circle(circle)\n",
    "if ret_value:\n",
    "    p0, p1 = ret_value\n",
    "    print ('The two 3d points that are in the intersection of the 3 spheres are:')\n",
    "    print ('P0 = ', p0)\n",
    "    print ('P1 = ', p1)\n",
    "    print ('The following checks to see P0 exists on all three spheres:', all(\n",
    "        [s.check_point_is_on_sphere(p0) for s in spheres]))\n",
    "    print ('The following checks to see P1 exists on all three spheres:', all(\n",
    "        [s.check_point_is_on_sphere(p1) for s in spheres]))\n",
    "else:\n",
    "    print ('No intersection exists of the circle with the 3rd sphere.')"
   ]
  },
  {
   "cell_type": "code",
   "execution_count": 19,
   "metadata": {},
   "outputs": [],
   "source": [
    "def intersect3spheres(x1, x2, x3, y1, y2, y3, z1, z2, z3, r1, r2, r3):\n",
    "\t# var a1, b1, c1, k1, a3, b3, c3, k3, a31, b31, \n",
    "\t# \te, f, g, h, A, B, C, x, y, z, x_, y_, z_, rootD;\n",
    "\n",
    "\tk1 = r1 * r1 - r2 * r2 - x1 * x1 + x2 * x2 - y1 * y1 + y2 * y2 - z1 * z1 + z2 * z2\n",
    "\t\n",
    "\ta1 = 2 * (x2 - x1)\n",
    "\tb1 = 2 * (y2 - y1)\n",
    "\tc1 = 2 * (z2 - z1)\n",
    "\t\n",
    "\tk3 = r3 * r3 - r2 * r2 - x3 * x3 + x2 * x2 - y3 * y3 + y2 * y2 - z3 * z3 + z2 * z2\n",
    "\t\n",
    "\ta3 = 2 * (x2 - x3)\n",
    "\tb3 = 2 * (y2 - y3)\n",
    "\tc3 = 2 * (z2 - z3)\n",
    "\n",
    "\tif (a1 == 0) :\n",
    "\t\te = -c1 / b1\n",
    "\t\tf = k1 / b1\n",
    "\telif (a3 == 0):\n",
    "\t\te = -c3 / b3\n",
    "\t\tf = k3 / b3;\t\t\n",
    "\telse:\t\n",
    "\t\ta31 = a3 / a1\n",
    "\t\te = - ((a31 * c1 - c3) / (a31 * b1 - b3))\n",
    "\t\tf = (a31 * k1 - k3) / (a31 * b1 - b3)\n",
    "\t\n",
    "\tif (b1 == 0):\n",
    "\t\tg = -c1 / a1\n",
    "\t\th = k1 / a1\n",
    "\telif (b3 == 0):\n",
    "\t\tg = -c3 / a3\n",
    "\t\th = k3 / a3\n",
    "\t\t\n",
    "\telse:\n",
    "\t\n",
    "\t\tb31 = b3 / b1\n",
    "\t\tg = - ((b31 * c1 - c3) / (b31 * a1 - a3))\n",
    "\t\th = (b31 * k1 - k3) / (b31 * a1 - a3)\n",
    "\t\n",
    "\n",
    "\tA = g * g + e * e + 1\n",
    "\tB = -x1 * g - y1 * e - 2 * z1 - x1 * g - y1 * e + 2 * g * h + 2 * e * f\n",
    "\tC = x1 * x1 + y1 * y1 + z1 * z1 - 2 * x1 * h - 2 * y1 * f + h * h + f * f - r1 * r1\n",
    "\t\n",
    "\trootD = (B * B - 4 * A * C)**0.5\n",
    "\t\n",
    "\tz = (-B + rootD) / (2 * A)\n",
    "\tz_ = (-B - rootD) / (2 * A)\n",
    "\n",
    "\n",
    "\tx = g * z + h\n",
    "\tx_ = g * z_ + h\n",
    "\t\n",
    "\ty = e * z + f\n",
    "\ty_ = e * z_ + f\n",
    "\t\n",
    "\treturn [x, y, z, x_, y_, z_]"
   ]
  },
  {
   "cell_type": "code",
   "execution_count": 21,
   "metadata": {},
   "outputs": [
    {
     "name": "stdout",
     "output_type": "stream",
     "text": [
      "[(-76.92035706828146+162.41894338951485j), (250.4969216313025+0.6575665724271839j), (76.38425108823105+165.70677625165078j), (-76.92035706828149-162.41894338951485j), (250.4969216313025-0.6575665724271839j), (76.38425108823103-165.70677625165078j)]\n"
     ]
    }
   ],
   "source": [
    "s = intersect3spheres(1,-100,0, 1,0,500, 1,100,0, 142, 100, 142)\n",
    "print(s)"
   ]
  },
  {
   "cell_type": "code",
   "execution_count": null,
   "metadata": {},
   "outputs": [],
   "source": [
    "r_s = [((v_p * v_s * delta_p_s)/(v_p - v_s)) for delta_p_s in t_delta_p_s] # метод сфер"
   ]
  },
  {
   "cell_type": "markdown",
   "metadata": {},
   "source": [
    "WORKING!\n",
    "  |||\n",
    "  \\ /"
   ]
  },
  {
   "cell_type": "code",
   "execution_count": 26,
   "metadata": {},
   "outputs": [],
   "source": [
    "import numpy as np\n",
    "from mpl_toolkits.mplot3d import Axes3D\n",
    "import matplotlib.pyplot as plt\n",
    "import seaborn as sns\n",
    "sns.set_style(\"whitegrid\")\n",
    "import hypo\n",
    "from ttcrpy.rgrid import Grid3d"
   ]
  },
  {
   "cell_type": "code",
   "execution_count": 31,
   "metadata": {},
   "outputs": [],
   "source": [
    "P1 = np.array([0,-0.100,0])\n",
    "P2 = np.array([0.175,0,0])\n",
    "P3 = np.array([0,0.100,0])\n",
    "\n",
    "rcv = np.array([P1,P2,P3])\n",
    "ircv = np.arange(rcv.shape[0]).reshape(-1,1)   # vector of rcv indices\n",
    "nsta = rcv.shape[0]"
   ]
  },
  {
   "cell_type": "code",
   "execution_count": 32,
   "metadata": {},
   "outputs": [
    {
     "data": {
      "image/png": "[encoded data removed]",
      "text/plain": [
       "<Figure size 1000x800 with 1 Axes>"
      ]
     },
     "metadata": {},
     "output_type": "display_data"
    }
   ],
   "source": [
    "nev = 15\n",
    "src = np.vstack((np.arange(nev),                                            # event ID\n",
    "                 np.linspace(0., 50., nev) + np.random.randn(nev),          # origin time\n",
    "                 0.160 + 0.005*np.random.randn(nev),                           # x\n",
    "                 0.140 + 0.005*np.random.randn(nev),                           # y\n",
    "                 0.060 + 0.010*np.random.randn(nev))).T                        # z\n",
    "\n",
    "h_true = src.copy()\n",
    "fig = plt.figure(figsize=(10,8))\n",
    "ax = fig.add_subplot(111, projection='3d')\n",
    "\n",
    "ax.scatter(rcv[:,0], rcv[:,1], rcv[:,2], c='b', marker='o')\n",
    "ax.scatter(src[:,2], src[:,3], src[:,4], c='r', marker='^')\n",
    "ax.invert_zaxis()\n",
    "ax.set_xlabel('X')\n",
    "ax.set_ylabel('Y')\n",
    "ax.set_zlabel('Z')\n",
    "\n",
    "plt.show()"
   ]
  },
  {
   "cell_type": "code",
   "execution_count": null,
   "metadata": {},
   "outputs": [],
   "source": []
  }
 ],
 "metadata": {
  "kernelspec": {
   "display_name": "Python 3",
   "language": "python",
   "name": "python3"
  },
  "language_info": {
   "codemirror_mode": {
    "name": "ipython",
    "version": 3
   },
   "file_extension": ".py",
   "mimetype": "text/x-python",
   "name": "python",
   "nbconvert_exporter": "python",
   "pygments_lexer": "ipython3",
   "version": "3.11.4"
  },
  "orig_nbformat": 4
 },
 "nbformat": 4,
 "nbformat_minor": 2
}
